{
 "cells": [
  {
   "cell_type": "markdown",
   "metadata": {},
   "source": [
    "# Data Analysis with Pandas:\n",
    "# Cycle Share Data set \n",
    "## abed alaziz alsalahat\n",
    "#### *25/May/2021 - 12:15 pm*"
   ]
  },
  {
   "cell_type": "markdown",
   "metadata": {},
   "source": [
    "1. What is the average trip duration for a borrowed bicycle?\n",
    "\n",
    "2. What’s the most common age of a bicycle-sharer?\n",
    "\n",
    "3. Given all the weather data here, find the average precipitation per month, and the median precipitation.\n",
    "\n",
    "4. What’s the average number of bikes at a given bike station?\n",
    "\n",
    "5. When a bike station is modified, is it more likely that it’ll lose bikes or gain bikes? How do you know?\n",
    "\n",
    "6. Come up with 3 more questions that can be answered with this data set."
   ]
  },
  {
   "cell_type": "markdown",
   "metadata": {},
   "source": [
    "___"
   ]
  },
  {
   "cell_type": "code",
   "execution_count": 19,
   "metadata": {},
   "outputs": [],
   "source": [
    "import pandas as pd"
   ]
  },
  {
   "cell_type": "code",
   "execution_count": 25,
   "metadata": {},
   "outputs": [
    {
     "output_type": "execute_result",
     "data": {
      "text/plain": [
       "Index(['station_id', 'name', 'lat', 'long', 'install_date',\n",
       "       'install_dockcount', 'modification_date', 'current_dockcount',\n",
       "       'decommission_date'],\n",
       "      dtype='object')"
      ]
     },
     "metadata": {},
     "execution_count": 25
    }
   ],
   "source": [
    "station_df = pd.read_csv('./station.csv')\n",
    "station_df.keys()"
   ]
  },
  {
   "cell_type": "code",
   "execution_count": 31,
   "metadata": {},
   "outputs": [
    {
     "output_type": "execute_result",
     "data": {
      "text/plain": [
       "Index(['Date', 'Max_Temperature_F', 'Mean_Temperature_F', 'Min_TemperatureF',\n",
       "       'Max_Dew_Point_F', 'MeanDew_Point_F', 'Min_Dewpoint_F', 'Max_Humidity',\n",
       "       'Mean_Humidity', 'Min_Humidity', 'Max_Sea_Level_Pressure_In',\n",
       "       'Mean_Sea_Level_Pressure_In', 'Min_Sea_Level_Pressure_In',\n",
       "       'Max_Visibility_Miles', 'Mean_Visibility_Miles', 'Min_Visibility_Miles',\n",
       "       'Max_Wind_Speed_MPH', 'Mean_Wind_Speed_MPH', 'Max_Gust_Speed_MPH',\n",
       "       'Precipitation_In', 'Events'],\n",
       "      dtype='object')"
      ]
     },
     "metadata": {},
     "execution_count": 31
    }
   ],
   "source": [
    "weather_df = pd.read_csv('./weather.csv')\n",
    "weather_df.keys()"
   ]
  },
  {
   "cell_type": "code",
   "execution_count": 37,
   "metadata": {},
   "outputs": [
    {
     "output_type": "stream",
     "name": "stderr",
     "text": [
      "b'Skipping line 50794: expected 12 fields, saw 20\\n'\n"
     ]
    },
    {
     "output_type": "execute_result",
     "data": {
      "text/plain": [
       "Index(['trip_id', 'starttime', 'stoptime', 'bikeid', 'tripduration',\n",
       "       'from_station_name', 'to_station_name', 'from_station_id',\n",
       "       'to_station_id', 'usertype', 'gender', 'birthyear'],\n",
       "      dtype='object')"
      ]
     },
     "metadata": {},
     "execution_count": 37
    }
   ],
   "source": [
    "trip_df = pd.read_csv('trip.csv', error_bad_lines=False)\n",
    "trip_df.keys()"
   ]
  },
  {
   "cell_type": "markdown",
   "metadata": {},
   "source": [
    "___\n",
    "## 1. ~*What is the average trip duration for a borrowed bicycle?*~"
   ]
  },
  {
   "cell_type": "code",
   "execution_count": 43,
   "metadata": {},
   "outputs": [
    {
     "output_type": "execute_result",
     "data": {
      "text/plain": [
       "1178.2956753399776"
      ]
     },
     "metadata": {},
     "execution_count": 43
    }
   ],
   "source": [
    "trip_df['tripduration'].mean()"
   ]
  },
  {
   "cell_type": "markdown",
   "metadata": {},
   "source": [
    "___\n",
    "## 2. ~*What’s the most common age of a bicycle-sharer?*~"
   ]
  },
  {
   "cell_type": "code",
   "execution_count": 81,
   "metadata": {},
   "outputs": [
    {
     "output_type": "execute_result",
     "data": {
      "text/plain": [
       "34.0"
      ]
     },
     "metadata": {},
     "execution_count": 81
    }
   ],
   "source": [
    "2021 - trip_df['birthyear'].mode()[0]"
   ]
  },
  {
   "cell_type": "markdown",
   "metadata": {},
   "source": [
    "___\n",
    "## 3. ~*Given all the weather data here, find the average precipitation per month, and the median precipitation.*~"
   ]
  },
  {
   "cell_type": "code",
   "execution_count": 82,
   "metadata": {},
   "outputs": [
    {
     "output_type": "stream",
     "name": "stdout",
     "text": [
      "avg/mean\nMonth\n1     0.143548\n2     0.168421\n3     0.156935\n4     0.051333\n5     0.012419\n6     0.030500\n7     0.012097\n8     0.018226\n9     0.041000\n10    0.189000\n11    0.187833\n12    0.236290\nName: Precipitation_In, dtype: float64\n\n\n\n\n\n\nmedian\nMonth\n1     0.020\n2     0.040\n3     0.025\n4     0.000\n5     0.000\n6     0.000\n7     0.000\n8     0.000\n9     0.000\n10    0.040\n11    0.035\n12    0.100\nName: Precipitation_In, dtype: float64\n"
     ]
    }
   ],
   "source": [
    "weather_df['Precipitation_In']\n",
    "\n",
    "\n",
    "# find avg precipitation per month\n",
    "# find the median precipitation\n",
    "\n",
    "def to_month(cell):\n",
    "    return int(cell.split('/')[0])\n",
    "weather_df['Month'] = weather_df['Date'].apply(to_month)\n",
    "weather_df['Month']\n",
    "\n",
    "# avg\n",
    "print('avg/mean')\n",
    "print(weather_df.groupby('Month')['Precipitation_In'].mean())\n",
    "print('\\n\\n\\n\\n\\n')\n",
    "\n",
    "# median \n",
    "print('median')\n",
    "print(weather_df.groupby('Month')['Precipitation_In'].median())\n"
   ]
  },
  {
   "cell_type": "markdown",
   "metadata": {},
   "source": [
    "___\n",
    "## 4. ~*What’s the average number of bikes at a given bike station?*~"
   ]
  },
  {
   "cell_type": "code",
   "execution_count": 83,
   "metadata": {},
   "outputs": [
    {
     "output_type": "execute_result",
     "data": {
      "text/plain": [
       "17.74074074074074"
      ]
     },
     "metadata": {},
     "execution_count": 83
    }
   ],
   "source": [
    "# avg bike num in station\n",
    "date = station_df[station_df['decommission_date'].isnull()]\n",
    "date['current_dockcount'].mean()"
   ]
  },
  {
   "cell_type": "markdown",
   "metadata": {},
   "source": [
    "___\n",
    "## 5. ~*When a bike station is modified, is it more likely that it’ll lose bikes or gain bikes? How do you know?*~"
   ]
  },
  {
   "cell_type": "code",
   "execution_count": 84,
   "metadata": {},
   "outputs": [
    {
     "output_type": "execute_result",
     "data": {
      "text/plain": [
       "-64"
      ]
     },
     "metadata": {},
     "execution_count": 84
    }
   ],
   "source": [
    "# remove empty rows\n",
    "modify = station_df[['modification_date','install_dockcount','current_dockcount']].dropna()\n",
    "current = modify['current_dockcount'].sum()\n",
    "install = modify['install_dockcount'].sum()\n",
    "current - install"
   ]
  },
  {
   "cell_type": "markdown",
   "metadata": {},
   "source": [
    "___\n",
    "___\n",
    "## 6. ~*Come up with 3 more questions that can be answered with this data set.*~"
   ]
  },
  {
   "cell_type": "markdown",
   "metadata": {},
   "source": [
    "### 6.1. *What are the top five hotter days at all?*"
   ]
  },
  {
   "cell_type": "code",
   "execution_count": 85,
   "metadata": {},
   "outputs": [
    {
     "output_type": "execute_result",
     "data": {
      "text/plain": [
       "          Date  Max_Temperature_F\n",
       "279  7/19/2015                 98\n",
       "676  8/19/2016                 95\n",
       "263   7/3/2015                 93\n",
       "291  7/31/2015                 93\n",
       "682  8/25/2016                 93"
      ],
      "text/html": "<div>\n<style scoped>\n    .dataframe tbody tr th:only-of-type {\n        vertical-align: middle;\n    }\n\n    .dataframe tbody tr th {\n        vertical-align: top;\n    }\n\n    .dataframe thead th {\n        text-align: right;\n    }\n</style>\n<table border=\"1\" class=\"dataframe\">\n  <thead>\n    <tr style=\"text-align: right;\">\n      <th></th>\n      <th>Date</th>\n      <th>Max_Temperature_F</th>\n    </tr>\n  </thead>\n  <tbody>\n    <tr>\n      <th>279</th>\n      <td>7/19/2015</td>\n      <td>98</td>\n    </tr>\n    <tr>\n      <th>676</th>\n      <td>8/19/2016</td>\n      <td>95</td>\n    </tr>\n    <tr>\n      <th>263</th>\n      <td>7/3/2015</td>\n      <td>93</td>\n    </tr>\n    <tr>\n      <th>291</th>\n      <td>7/31/2015</td>\n      <td>93</td>\n    </tr>\n    <tr>\n      <th>682</th>\n      <td>8/25/2016</td>\n      <td>93</td>\n    </tr>\n  </tbody>\n</table>\n</div>"
     },
     "metadata": {},
     "execution_count": 85
    }
   ],
   "source": [
    "weather_df.sort_values('Max_Temperature_F', ascending=False).head()[['Date','Max_Temperature_F']]"
   ]
  },
  {
   "cell_type": "markdown",
   "metadata": {},
   "source": [
    "### 6.2 *when is the highst air pressure?*"
   ]
  },
  {
   "cell_type": "code",
   "execution_count": 86,
   "metadata": {},
   "outputs": [
    {
     "output_type": "execute_result",
     "data": {
      "text/plain": [
       "           Date  Max_Sea_Level_Pressure_In\n",
       "78   12/30/2014                      30.86\n",
       "77   12/29/2014                      30.74\n",
       "79   12/31/2014                      30.73\n",
       "444  12/31/2015                      30.58\n",
       "439  12/26/2015                      30.57"
      ],
      "text/html": "<div>\n<style scoped>\n    .dataframe tbody tr th:only-of-type {\n        vertical-align: middle;\n    }\n\n    .dataframe tbody tr th {\n        vertical-align: top;\n    }\n\n    .dataframe thead th {\n        text-align: right;\n    }\n</style>\n<table border=\"1\" class=\"dataframe\">\n  <thead>\n    <tr style=\"text-align: right;\">\n      <th></th>\n      <th>Date</th>\n      <th>Max_Sea_Level_Pressure_In</th>\n    </tr>\n  </thead>\n  <tbody>\n    <tr>\n      <th>78</th>\n      <td>12/30/2014</td>\n      <td>30.86</td>\n    </tr>\n    <tr>\n      <th>77</th>\n      <td>12/29/2014</td>\n      <td>30.74</td>\n    </tr>\n    <tr>\n      <th>79</th>\n      <td>12/31/2014</td>\n      <td>30.73</td>\n    </tr>\n    <tr>\n      <th>444</th>\n      <td>12/31/2015</td>\n      <td>30.58</td>\n    </tr>\n    <tr>\n      <th>439</th>\n      <td>12/26/2015</td>\n      <td>30.57</td>\n    </tr>\n  </tbody>\n</table>\n</div>"
     },
     "metadata": {},
     "execution_count": 86
    }
   ],
   "source": [
    "weather_df.sort_values('Max_Sea_Level_Pressure_In', ascending=False).head()[['Date','Max_Sea_Level_Pressure_In']]"
   ]
  },
  {
   "cell_type": "markdown",
   "metadata": {},
   "source": [
    "## 6.3. *The most common gender in trips?*"
   ]
  },
  {
   "cell_type": "code",
   "execution_count": 87,
   "metadata": {},
   "outputs": [
    {
     "output_type": "execute_result",
     "data": {
      "text/plain": [
       "  gender\n",
       "0   Male"
      ],
      "text/html": "<div>\n<style scoped>\n    .dataframe tbody tr th:only-of-type {\n        vertical-align: middle;\n    }\n\n    .dataframe tbody tr th {\n        vertical-align: top;\n    }\n\n    .dataframe thead th {\n        text-align: right;\n    }\n</style>\n<table border=\"1\" class=\"dataframe\">\n  <thead>\n    <tr style=\"text-align: right;\">\n      <th></th>\n      <th>gender</th>\n    </tr>\n  </thead>\n  <tbody>\n    <tr>\n      <th>0</th>\n      <td>Male</td>\n    </tr>\n  </tbody>\n</table>\n</div>"
     },
     "metadata": {},
     "execution_count": 87
    }
   ],
   "source": [
    "trip_df[[\"gender\"]].mode()"
   ]
  },
  {
   "cell_type": "markdown",
   "metadata": {},
   "source": [
    "___\n",
    "___\n",
    "___"
   ]
  }
 ],
 "metadata": {
  "kernelspec": {
   "display_name": "Python 3",
   "language": "python",
   "name": "python3"
  },
  "language_info": {
   "codemirror_mode": {
    "name": "ipython",
    "version": 3
   },
   "file_extension": ".py",
   "mimetype": "text/x-python",
   "name": "python",
   "nbconvert_exporter": "python",
   "pygments_lexer": "ipython3",
   "version": "3.9.4"
  }
 },
 "nbformat": 4,
 "nbformat_minor": 4
}